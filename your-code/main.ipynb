{
 "cells": [
  {
   "cell_type": "markdown",
   "metadata": {},
   "source": [
    "# Intrduction to NumPy\n",
    "\n",
    "\n",
    "#### 1. Import NumPy under the name np."
   ]
  },
  {
   "cell_type": "code",
   "execution_count": 2,
   "metadata": {},
   "outputs": [],
   "source": [
    "# your code here\n",
    "import numpy as np"
   ]
  },
  {
   "cell_type": "code",
   "execution_count": null,
   "metadata": {},
   "outputs": [],
   "source": []
  },
  {
   "cell_type": "markdown",
   "metadata": {},
   "source": [
    "#### 2. Print your NumPy version."
   ]
  },
  {
   "cell_type": "code",
   "execution_count": 3,
   "metadata": {},
   "outputs": [
    {
     "name": "stdout",
     "output_type": "stream",
     "text": [
      "1.18.1\n"
     ]
    }
   ],
   "source": [
    "# your code here\n",
    "import numpy as np\n",
    "print(np.__version__)\n"
   ]
  },
  {
   "cell_type": "code",
   "execution_count": null,
   "metadata": {},
   "outputs": [],
   "source": []
  },
  {
   "cell_type": "markdown",
   "metadata": {},
   "source": [
    "#### 3. Generate a 2x3x5 3-dimensional array with random values. Assign the array to variable *a*.\n",
    "**Challenge**: there are at least three easy ways that use numpy to generate random arrays. How many ways can you find?"
   ]
  },
  {
   "cell_type": "code",
   "execution_count": 4,
   "metadata": {},
   "outputs": [
    {
     "name": "stdout",
     "output_type": "stream",
     "text": [
      "[[[0.75218913 0.04999114 0.64164322 0.23233384 0.15747591]\n",
      "  [0.59073897 0.66131441 0.78701775 0.14624708 0.41241064]\n",
      "  [0.1580179  0.98939194 0.67215685 0.60985974 0.15950983]]\n",
      "\n",
      " [[0.78554692 0.36069624 0.08008967 0.85403863 0.13489239]\n",
      "  [0.26248821 0.25338236 0.68672967 0.07594917 0.27804082]\n",
      "  [0.55020886 0.44792208 0.47806879 0.75839276 0.15184753]]]\n"
     ]
    }
   ],
   "source": [
    "# Method 1\n",
    "a=np.random.random((2,3,5))\n",
    "print(a)"
   ]
  },
  {
   "cell_type": "code",
   "execution_count": 5,
   "metadata": {},
   "outputs": [
    {
     "data": {
      "text/plain": [
       "array([[[0.77342427, 0.1051615 , 0.65763152, 0.73440391, 0.03897714],\n",
       "        [0.76833809, 0.76309909, 0.36522914, 0.04480221, 0.20292998],\n",
       "        [0.32426656, 0.11426847, 0.51762977, 0.13530069, 0.46685272]],\n",
       "\n",
       "       [[0.03433308, 0.25636706, 0.70799977, 0.46906437, 0.22527153],\n",
       "        [0.35383609, 0.18311572, 0.064193  , 0.57816927, 0.05630473],\n",
       "        [0.99894364, 0.10477492, 0.8095096 , 0.33488504, 0.43931748]]])"
      ]
     },
     "execution_count": 5,
     "metadata": {},
     "output_type": "execute_result"
    }
   ],
   "source": [
    "# Method 2\n",
    "import numpy as np\n",
    "from random import seed\n",
    "seed(1)\n",
    "\n",
    "b=np.random.rand(2,3,5)\n",
    "b"
   ]
  },
  {
   "cell_type": "code",
   "execution_count": 6,
   "metadata": {},
   "outputs": [
    {
     "name": "stdout",
     "output_type": "stream",
     "text": [
      "[[[74 44 35 77 56]\n",
      "  [91  3 83 53 52]\n",
      "  [75 24 98 99 39]]\n",
      "\n",
      " [[80  8 51 15  5]\n",
      "  [17 14 40 37 94]\n",
      "  [62 80 91 93 57]]]\n"
     ]
    }
   ],
   "source": [
    "# Method 3\n",
    "from numpy import random\n",
    "\n",
    "x = random.randint(100, size=(2,3, 5))\n",
    "\n",
    "print(x)"
   ]
  },
  {
   "cell_type": "markdown",
   "metadata": {},
   "source": [
    "#### 4. Print *a*.\n"
   ]
  },
  {
   "cell_type": "code",
   "execution_count": 7,
   "metadata": {},
   "outputs": [
    {
     "name": "stdout",
     "output_type": "stream",
     "text": [
      "[[[0.75218913 0.04999114 0.64164322 0.23233384 0.15747591]\n",
      "  [0.59073897 0.66131441 0.78701775 0.14624708 0.41241064]\n",
      "  [0.1580179  0.98939194 0.67215685 0.60985974 0.15950983]]\n",
      "\n",
      " [[0.78554692 0.36069624 0.08008967 0.85403863 0.13489239]\n",
      "  [0.26248821 0.25338236 0.68672967 0.07594917 0.27804082]\n",
      "  [0.55020886 0.44792208 0.47806879 0.75839276 0.15184753]]]\n"
     ]
    }
   ],
   "source": [
    "# your code here\n",
    "print(a)"
   ]
  },
  {
   "cell_type": "code",
   "execution_count": null,
   "metadata": {},
   "outputs": [],
   "source": []
  },
  {
   "cell_type": "markdown",
   "metadata": {},
   "source": [
    "#### 5. Create a 5x2x3 3-dimensional array with all values equaling 1. Assign the array to variable *b*."
   ]
  },
  {
   "cell_type": "code",
   "execution_count": 8,
   "metadata": {},
   "outputs": [
    {
     "name": "stdout",
     "output_type": "stream",
     "text": [
      "[[[1 1 1]\n",
      "  [1 1 1]]\n",
      "\n",
      " [[1 1 1]\n",
      "  [1 1 1]]\n",
      "\n",
      " [[1 1 1]\n",
      "  [1 1 1]]\n",
      "\n",
      " [[1 1 1]\n",
      "  [1 1 1]]\n",
      "\n",
      " [[1 1 1]\n",
      "  [1 1 1]]]\n"
     ]
    }
   ],
   "source": [
    "# your code here\n",
    "import numpy as np\n",
    "b=np.ones((5,2,3), dtype=int)\n",
    "print(b)"
   ]
  },
  {
   "cell_type": "markdown",
   "metadata": {},
   "source": [
    "#### 6. Print *b*.\n"
   ]
  },
  {
   "cell_type": "code",
   "execution_count": 9,
   "metadata": {},
   "outputs": [
    {
     "name": "stdout",
     "output_type": "stream",
     "text": [
      "[[[1 1 1]\n",
      "  [1 1 1]]\n",
      "\n",
      " [[1 1 1]\n",
      "  [1 1 1]]\n",
      "\n",
      " [[1 1 1]\n",
      "  [1 1 1]]\n",
      "\n",
      " [[1 1 1]\n",
      "  [1 1 1]]\n",
      "\n",
      " [[1 1 1]\n",
      "  [1 1 1]]]\n"
     ]
    }
   ],
   "source": [
    "# your code here\n",
    "print(b)"
   ]
  },
  {
   "cell_type": "markdown",
   "metadata": {},
   "source": [
    "#### 7. Do *a* and *b* have the same size? How do you prove that in Python code?"
   ]
  },
  {
   "cell_type": "code",
   "execution_count": 10,
   "metadata": {},
   "outputs": [
    {
     "name": "stdout",
     "output_type": "stream",
     "text": [
      "2\n",
      "5\n",
      "False\n"
     ]
    }
   ],
   "source": [
    "# your code here\n",
    "\n",
    "size_a = len(a)\n",
    "print(size_a)\n",
    "size_b = len(b)\n",
    "print(size_b)\n",
    "print(size_a == size_b)"
   ]
  },
  {
   "cell_type": "code",
   "execution_count": null,
   "metadata": {},
   "outputs": [],
   "source": []
  },
  {
   "cell_type": "markdown",
   "metadata": {},
   "source": [
    "#### 8. Are you able to add *a* and *b*? Why or why not?\n"
   ]
  },
  {
   "cell_type": "code",
   "execution_count": 11,
   "metadata": {},
   "outputs": [
    {
     "ename": "ValueError",
     "evalue": "operands could not be broadcast together with shapes (2,3,5) (5,2,3) ",
     "output_type": "error",
     "traceback": [
      "\u001b[1;31m---------------------------------------------------------------------------\u001b[0m",
      "\u001b[1;31mValueError\u001b[0m                                Traceback (most recent call last)",
      "\u001b[1;32m<ipython-input-11-7277310357f8>\u001b[0m in \u001b[0;36m<module>\u001b[1;34m\u001b[0m\n\u001b[0;32m      1\u001b[0m \u001b[1;31m# your answer here\u001b[0m\u001b[1;33m\u001b[0m\u001b[1;33m\u001b[0m\u001b[1;33m\u001b[0m\u001b[0m\n\u001b[1;32m----> 2\u001b[1;33m \u001b[0marray_sum\u001b[0m \u001b[1;33m=\u001b[0m \u001b[0mnp\u001b[0m\u001b[1;33m.\u001b[0m\u001b[0madd\u001b[0m\u001b[1;33m(\u001b[0m\u001b[0ma\u001b[0m\u001b[1;33m,\u001b[0m\u001b[0mb\u001b[0m\u001b[1;33m)\u001b[0m\u001b[1;33m\u001b[0m\u001b[1;33m\u001b[0m\u001b[0m\n\u001b[0m",
      "\u001b[1;31mValueError\u001b[0m: operands could not be broadcast together with shapes (2,3,5) (5,2,3) "
     ]
    }
   ],
   "source": [
    "# your answer here\n",
    "array_sum = np.add(a,b)"
   ]
  },
  {
   "cell_type": "code",
   "execution_count": null,
   "metadata": {},
   "outputs": [],
   "source": [
    "#can't sum array with different sizes"
   ]
  },
  {
   "cell_type": "markdown",
   "metadata": {},
   "source": [
    "#### 9. Transpose *b* so that it has the same structure of *a* (i.e. become a 2x3x5 array). Assign the transposed array to variable *c*."
   ]
  },
  {
   "cell_type": "code",
   "execution_count": 13,
   "metadata": {
    "scrolled": true
   },
   "outputs": [
    {
     "name": "stdout",
     "output_type": "stream",
     "text": [
      "(2, 3, 5)\n",
      "(5, 2, 3)\n",
      "(2, 3, 5)\n"
     ]
    }
   ],
   "source": [
    "# your code here\n",
    "b=np.ones((5,2,3), dtype=int)\n",
    "#print(b)\n",
    "\n",
    "#c=np.transpose(b, axes=(1,0,2))\n",
    "c=b.reshape((2,3,5))\n",
    "\n",
    "#print(c)\n",
    "print(np.shape(c))\n",
    "print(np.shape(b))\n",
    "print(np.shape(a))\n",
    "\n",
    "#new_array = np.add(a,c)\n",
    "#print(new_array)"
   ]
  },
  {
   "cell_type": "code",
   "execution_count": null,
   "metadata": {},
   "outputs": [],
   "source": []
  },
  {
   "cell_type": "code",
   "execution_count": null,
   "metadata": {},
   "outputs": [],
   "source": []
  },
  {
   "cell_type": "code",
   "execution_count": null,
   "metadata": {},
   "outputs": [],
   "source": []
  },
  {
   "cell_type": "code",
   "execution_count": null,
   "metadata": {},
   "outputs": [],
   "source": []
  },
  {
   "cell_type": "markdown",
   "metadata": {},
   "source": [
    "#### 10. Try to add *a* and *c*. Now it should work. Assign the sum to variable *d*. But why does it work now?"
   ]
  },
  {
   "cell_type": "code",
   "execution_count": 14,
   "metadata": {},
   "outputs": [
    {
     "name": "stdout",
     "output_type": "stream",
     "text": [
      "[[[1.75218913 1.04999114 1.64164322 1.23233384 1.15747591]\n",
      "  [1.59073897 1.66131441 1.78701775 1.14624708 1.41241064]\n",
      "  [1.1580179  1.98939194 1.67215685 1.60985974 1.15950983]]\n",
      "\n",
      " [[1.78554692 1.36069624 1.08008967 1.85403863 1.13489239]\n",
      "  [1.26248821 1.25338236 1.68672967 1.07594917 1.27804082]\n",
      "  [1.55020886 1.44792208 1.47806879 1.75839276 1.15184753]]]\n",
      "(2, 3, 5)\n"
     ]
    }
   ],
   "source": [
    "# your code/answer here\n",
    "d = np.add(a,c)\n",
    "print(d)\n",
    "print(np.shape(d))\n",
    "#because both arrays have the same dimensions"
   ]
  },
  {
   "cell_type": "code",
   "execution_count": null,
   "metadata": {},
   "outputs": [],
   "source": []
  },
  {
   "cell_type": "code",
   "execution_count": null,
   "metadata": {},
   "outputs": [],
   "source": []
  },
  {
   "cell_type": "markdown",
   "metadata": {},
   "source": [
    "#### 11. Print *a* and *d*. Notice the difference and relation of the two array in terms of the values? Explain."
   ]
  },
  {
   "cell_type": "code",
   "execution_count": 15,
   "metadata": {},
   "outputs": [
    {
     "name": "stdout",
     "output_type": "stream",
     "text": [
      "[[[1. 1. 1. 1. 1.]\n",
      "  [1. 1. 1. 1. 1.]\n",
      "  [1. 1. 1. 1. 1.]]\n",
      "\n",
      " [[1. 1. 1. 1. 1.]\n",
      "  [1. 1. 1. 1. 1.]\n",
      "  [1. 1. 1. 1. 1.]]]\n"
     ]
    }
   ],
   "source": [
    "# your code/answer here\n",
    "#print(a)\n",
    "#print(d)\n",
    "\n",
    "#'d' is the result of adding always 1 do all elements of 'a'\n",
    "difference_a_b = print(d-a)"
   ]
  },
  {
   "cell_type": "code",
   "execution_count": null,
   "metadata": {},
   "outputs": [],
   "source": []
  },
  {
   "cell_type": "markdown",
   "metadata": {},
   "source": [
    "#### 12. Multiply *a* and *c*. Assign the result to *e*."
   ]
  },
  {
   "cell_type": "code",
   "execution_count": 16,
   "metadata": {},
   "outputs": [
    {
     "name": "stdout",
     "output_type": "stream",
     "text": [
      "[[[0.75218913 0.04999114 0.64164322 0.23233384 0.15747591]\n",
      "  [0.59073897 0.66131441 0.78701775 0.14624708 0.41241064]\n",
      "  [0.1580179  0.98939194 0.67215685 0.60985974 0.15950983]]\n",
      "\n",
      " [[0.78554692 0.36069624 0.08008967 0.85403863 0.13489239]\n",
      "  [0.26248821 0.25338236 0.68672967 0.07594917 0.27804082]\n",
      "  [0.55020886 0.44792208 0.47806879 0.75839276 0.15184753]]]\n"
     ]
    }
   ],
   "source": [
    "# your code here\n",
    "e=a*c\n",
    "print(e)"
   ]
  },
  {
   "cell_type": "code",
   "execution_count": null,
   "metadata": {},
   "outputs": [],
   "source": []
  },
  {
   "cell_type": "code",
   "execution_count": null,
   "metadata": {},
   "outputs": [],
   "source": [
    "print(c)"
   ]
  },
  {
   "cell_type": "code",
   "execution_count": null,
   "metadata": {},
   "outputs": [],
   "source": []
  },
  {
   "cell_type": "markdown",
   "metadata": {},
   "source": [
    "#### 13. Does *e* equal to *a*? Why or why not?\n"
   ]
  },
  {
   "cell_type": "code",
   "execution_count": null,
   "metadata": {},
   "outputs": [],
   "source": [
    "# your code/answer here\n",
    "#because 'c' is an erray of ones (all elements are equal to 1). Because 1 is the neutral element\n",
    "#of multiplication, c*a=a  because a=e than c*a=e"
   ]
  },
  {
   "cell_type": "markdown",
   "metadata": {},
   "source": [
    "#### 14. Identify the max, min, and mean values in *d*. Assign those values to variables *d_max*, *d_min* and *d_mean*."
   ]
  },
  {
   "cell_type": "code",
   "execution_count": 17,
   "metadata": {},
   "outputs": [
    {
     "name": "stdout",
     "output_type": "stream",
     "text": [
      "1.0499911401519388\n",
      "1.989391935143709\n",
      "1.439286414645068\n"
     ]
    }
   ],
   "source": [
    "# your code here\n",
    "d_min= d.min()\n",
    "print(d_min)\n",
    "d_max=d.max()\n",
    "print(d_max)\n",
    "d_mean=d.mean()\n",
    "print(d_mean)"
   ]
  },
  {
   "cell_type": "code",
   "execution_count": null,
   "metadata": {},
   "outputs": [],
   "source": []
  },
  {
   "cell_type": "code",
   "execution_count": null,
   "metadata": {},
   "outputs": [],
   "source": []
  },
  {
   "cell_type": "markdown",
   "metadata": {},
   "source": [
    "#### 15. Now we want to label the values in *d*. First create an empty array *f* with the same shape (i.e. 2x3x5) as *d* using `np.empty`.\n"
   ]
  },
  {
   "cell_type": "code",
   "execution_count": 37,
   "metadata": {},
   "outputs": [
    {
     "name": "stdout",
     "output_type": "stream",
     "text": [
      "[[[0.75218913 0.04999114 0.64164322 0.23233384 0.15747591]\n",
      "  [0.59073897 0.66131441 0.78701775 0.14624708 0.41241064]\n",
      "  [0.1580179  0.98939194 0.67215685 0.60985974 0.15950983]]\n",
      "\n",
      " [[0.78554692 0.36069624 0.08008967 0.85403863 0.13489239]\n",
      "  [0.26248821 0.25338236 0.68672967 0.07594917 0.27804082]\n",
      "  [0.55020886 0.44792208 0.47806879 0.75839276 0.15184753]]]\n"
     ]
    }
   ],
   "source": [
    "# your code here\n",
    "\n",
    "f=np.empty((2,3,5))\n",
    "print(f)"
   ]
  },
  {
   "cell_type": "code",
   "execution_count": 21,
   "metadata": {},
   "outputs": [
    {
     "data": {
      "text/plain": [
       "array([0.75218913, 0.04999114, 0.64164322, 0.23233384, 0.15747591,\n",
       "       0.59073897, 0.66131441, 0.78701775, 0.14624708, 0.41241064,\n",
       "       0.1580179 , 0.98939194, 0.67215685, 0.60985974, 0.15950983,\n",
       "       0.78554692, 0.36069624, 0.08008967, 0.85403863, 0.13489239,\n",
       "       0.26248821, 0.25338236, 0.68672967, 0.07594917, 0.27804082,\n",
       "       0.55020886, 0.44792208, 0.47806879, 0.75839276, 0.15184753])"
      ]
     },
     "execution_count": 21,
     "metadata": {},
     "output_type": "execute_result"
    }
   ],
   "source": [
    "f.flatten()"
   ]
  },
  {
   "cell_type": "code",
   "execution_count": null,
   "metadata": {},
   "outputs": [],
   "source": []
  },
  {
   "cell_type": "markdown",
   "metadata": {},
   "source": [
    "#### 16. Populate the values in *f*. \n",
    "\n",
    "For each value in *d*, if it's larger than *d_min* but smaller than *d_mean*, assign 25 to the corresponding value in *f*. If a value in *d* is larger than *d_mean* but smaller than *d_max*, assign 75 to the corresponding value in *f*. If a value equals to *d_mean*, assign 50 to the corresponding value in *f*. Assign 0 to the corresponding value(s) in *f* for *d_min* in *d*. Assign 100 to the corresponding value(s) in *f* for *d_max* in *d*. In the end, f should have only the following values: 0, 25, 50, 75, and 100.\n",
    "\n",
    "**Note**: you don't have to use Numpy in this question."
   ]
  },
  {
   "cell_type": "code",
   "execution_count": 43,
   "metadata": {},
   "outputs": [
    {
     "name": "stdout",
     "output_type": "stream",
     "text": [
      "[[[75  0 75 25 25]\n",
      "  [75 75 75 25 25]\n",
      "  [25  0 75 75 25]]\n",
      "\n",
      " [[75 25 25 75 25]\n",
      "  [25 25 75 25 25]\n",
      "  [75 75 75 75 25]]]\n"
     ]
    }
   ],
   "source": [
    "# your code here\n",
    "d_min= d.min()   #larger than\n",
    "d_mean=d.mean()  #smaller than \n",
    "\n",
    "\n",
    "d_flatten = d.flatten()\n",
    "f = []\n",
    "#why it doesnt work?\n",
    "for number in d_flatten:\n",
    "    if number > d_min and number < d_mean:\n",
    "        f.append(25)\n",
    "    elif number > d_mean and number < d_max:\n",
    "        f.append(75)\n",
    "    elif number ==d_mean:\n",
    "        f.append(50)\n",
    "    elif d_min:\n",
    "        f.append(0)\n",
    "    elif d_max:\n",
    "        f.append(100)\n",
    "\n",
    "        \n",
    "#print(f)\n",
    "\n",
    "f_array = np.array([f]) \n",
    "f_array=f_array.reshape((2,3,5))\n",
    "print(f_array)\n"
   ]
  },
  {
   "cell_type": "code",
   "execution_count": null,
   "metadata": {},
   "outputs": [],
   "source": []
  },
  {
   "cell_type": "code",
   "execution_count": null,
   "metadata": {},
   "outputs": [],
   "source": []
  },
  {
   "cell_type": "markdown",
   "metadata": {},
   "source": [
    "#### 17. Print *d* and *f*. Do you have your expected *f*?\n",
    "For instance, if your *d* is:\n",
    "```python\n",
    "[[[1.85836099, 1.67064465, 1.62576044, 1.40243961, 1.88454931],\n",
    "[1.75354326, 1.69403643, 1.36729252, 1.61415071, 1.12104981],\n",
    "[1.72201435, 1.1862918 , 1.87078449, 1.7726778 , 1.88180042]],\n",
    "[[1.44747908, 1.31673383, 1.02000951, 1.52218947, 1.97066381],\n",
    "[1.79129243, 1.74983003, 1.96028037, 1.85166831, 1.65450881],\n",
    "[1.18068344, 1.9587381 , 1.00656599, 1.93402165, 1.73514584]]]\n",
    "```\n",
    "Your *f* should be:\n",
    "```python\n",
    "[[[ 75.,  75.,  75.,  25.,  75.],\n",
    "[ 75.,  75.,  25.,  25.,  25.],\n",
    "[ 75.,  25.,  75.,  75.,  75.]],\n",
    "[[ 25.,  25.,  25.,  25., 100.],\n",
    "[ 75.,  75.,  75.,  75.,  75.],\n",
    "[ 25.,  75.,   0.,  75.,  75.]]]\n",
    "```"
   ]
  },
  {
   "cell_type": "code",
   "execution_count": null,
   "metadata": {},
   "outputs": [],
   "source": [
    "# your code here"
   ]
  },
  {
   "cell_type": "markdown",
   "metadata": {},
   "source": [
    "#### 18. Bonus question: instead of using numbers (i.e. 0, 25, 50, 75, and 100), use string values  (\"A\", \"B\", \"C\", \"D\", and \"E\") to label the array elements. For the example above, the expected result is:\n",
    "\n",
    "```python\n",
    "[[[ 'D',  'D',  'D',  'B',  'D'],\n",
    "[ 'D',  'D',  'B',  'B',  'B'],\n",
    "[ 'D',  'B',  'D',  'D',  'D']],\n",
    "[[ 'B',  'B',  'B',  'B',  'E'],\n",
    "[ 'D',  'D',  'D',  'D',  'D'],\n",
    "[ 'B',  'D',   'A',  'D', 'D']]]\n",
    "```\n",
    "**Note**: you don't have to use Numpy in this question."
   ]
  },
  {
   "cell_type": "code",
   "execution_count": 12,
   "metadata": {},
   "outputs": [],
   "source": [
    "# your code here"
   ]
  },
  {
   "cell_type": "code",
   "execution_count": 44,
   "metadata": {},
   "outputs": [
    {
     "name": "stdout",
     "output_type": "stream",
     "text": [
      "[[['D' 'A' 'D' 'B' 'B']\n",
      "  ['D' 'D' 'D' 'B' 'B']\n",
      "  ['B' 'A' 'D' 'D' 'B']]\n",
      "\n",
      " [['D' 'B' 'B' 'D' 'B']\n",
      "  ['B' 'B' 'D' 'B' 'B']\n",
      "  ['D' 'D' 'D' 'D' 'B']]]\n"
     ]
    }
   ],
   "source": [
    "\n",
    "h = []\n",
    "#why it doesnt work?\n",
    "for number in d_flatten:\n",
    "    if number > d_min and number < d_mean:\n",
    "        h.append(\"B\")\n",
    "    elif number > d_mean and number < d_max:\n",
    "        h.append(\"D\")\n",
    "    elif number ==d_mean:\n",
    "        h.append(\"C\")\n",
    "    elif d_min:\n",
    "        h.append(\"A\")\n",
    "    elif d_max:\n",
    "        h.append(\"E\")\n",
    "\n",
    "        \n",
    "#print(f)\n",
    "\n",
    "h_array = np.array([h]) \n",
    "h_array=h_array.reshape((2,3,5))\n",
    "print(h_array)\n"
   ]
  },
  {
   "cell_type": "code",
   "execution_count": null,
   "metadata": {},
   "outputs": [],
   "source": []
  }
 ],
 "metadata": {
  "kernelspec": {
   "display_name": "Python 3",
   "language": "python",
   "name": "python3"
  },
  "language_info": {
   "codemirror_mode": {
    "name": "ipython",
    "version": 3
   },
   "file_extension": ".py",
   "mimetype": "text/x-python",
   "name": "python",
   "nbconvert_exporter": "python",
   "pygments_lexer": "ipython3",
   "version": "3.7.1"
  }
 },
 "nbformat": 4,
 "nbformat_minor": 2
}
